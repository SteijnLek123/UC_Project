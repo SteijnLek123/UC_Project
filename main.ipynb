{
 "cells": [
  {
   "cell_type": "code",
   "execution_count": null,
   "outputs": [],
   "source": [
    "import osmnx as ox\n",
    "import matplotlib as plt\n",
    "import geopandas as gpd"
   ],
   "metadata": {
    "collapsed": false,
    "is_executing": true
   },
   "id": "6541dcc5e6ea6626"
  },
  {
   "cell_type": "code",
   "execution_count": null,
   "outputs": [],
   "source": [
    "place = \"Amsterdam\"\n",
    "tags = {\"highway\": \"primary_link\"}\n",
    "gdf = ox.features_from_place(place, tags)\n",
    "gdf.head()"
   ],
   "metadata": {
    "collapsed": false,
    "is_executing": true
   },
   "id": "54cc60827706ed5d"
  },
  {
   "cell_type": "code",
   "execution_count": null,
   "id": "initial_id",
   "metadata": {
    "collapsed": true,
    "is_executing": true
   },
   "outputs": [],
   "source": [
    "    region_name = 'Oklahoma City'\n",
    "    area = ox.geocode_to_gdf(region_name)\n",
    "    area"
   ]
  },
  {
   "cell_type": "code",
   "execution_count": null,
   "outputs": [],
   "source": [],
   "metadata": {
    "collapsed": false
   },
   "id": "2da0268d1d20bc61"
  }
 ],
 "metadata": {
  "kernelspec": {
   "display_name": "Python 3",
   "language": "python",
   "name": "python3"
  },
  "language_info": {
   "codemirror_mode": {
    "name": "ipython",
    "version": 2
   },
   "file_extension": ".py",
   "mimetype": "text/x-python",
   "name": "python",
   "nbconvert_exporter": "python",
   "pygments_lexer": "ipython2",
   "version": "2.7.6"
  }
 },
 "nbformat": 4,
 "nbformat_minor": 5
}
