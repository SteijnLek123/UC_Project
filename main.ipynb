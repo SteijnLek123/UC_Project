{
 "cells": [
  {
   "cell_type": "code",
   "execution_count": 58,
   "id": "6541dcc5e6ea6626",
   "metadata": {
    "collapsed": false,
    "is_executing": true
   },
   "outputs": [],
   "source": [
    "import osmnx as ox\n",
    "import matplotlib as plt\n",
    "import geopandas as gpd\n",
    "from k_means_constrained import KMeansConstrained\n",
    "from sklearn.cluster import KMeans\n",
    "from sklearn.preprocessing import LabelEncoder\n",
    "import pandas as pd\n",
    "import numpy as np\n",
    "from sklearn.model_selection import train_test_split\n",
    "from sklearn.preprocessing import StandardScaler\n",
    "from sklearn.metrics import accuracy_score\n",
    "from tensorflow.keras.models import Sequential\n",
    "from tensorflow.keras.layers import Dense, BatchNormalization\n",
    "from tensorflow.keras.initializers import he_normal\n",
    "from tensorflow.keras.optimizers import Adam\n",
    "from tensorflow.keras.models import Model\n",
    "\n"
   ]
  },
  {
   "cell_type": "code",
   "execution_count": 2,
   "metadata": {},
   "outputs": [],
   "source": [
    "# load in Data\n",
    "Porto_data = pd.read_csv(r'C:\\Users\\NimaMehrafar\\UC\\UC_Project\\porto_data_2')\n",
    "SanFrancisco_data = pd.read_csv(r'C:\\Users\\NimaMehrafar\\UC\\UC_Project\\san_francisco_data_2')\n",
    "Tokyo_data = pd.read_csv(r'C:\\Users\\NimaMehrafar\\UC\\UC_Project\\tokyo_data_2')"
   ]
  },
  {
   "cell_type": "code",
   "execution_count": 3,
   "id": "54cc60827706ed5d",
   "metadata": {
    "collapsed": false,
    "is_executing": true
   },
   "outputs": [],
   "source": [
    "clf = KMeansConstrained(\n",
    "     n_clusters=85,\n",
    "    size_min=40,\n",
    "    size_max=60, \n",
    "    random_state=0)"
   ]
  },
  {
   "cell_type": "code",
   "execution_count": 4,
   "id": "initial_id",
   "metadata": {
    "collapsed": true,
    "is_executing": true
   },
   "outputs": [],
   "source": [
    "#Preprocessing\n",
    "Porto_data = Porto_data[['element_type','highway','n_type']]\n",
    "label_encoder = LabelEncoder()\n",
    "Porto_data['highway'] = label_encoder.fit_transform(Porto_data['highway'])\n",
    "Porto_data['element_type'] = label_encoder.fit_transform(Porto_data['element_type'])\n"
   ]
  },
  {
   "cell_type": "code",
   "execution_count": 5,
   "id": "2da0268d1d20bc61",
   "metadata": {
    "collapsed": false
   },
   "outputs": [],
   "source": [
    "#Clustering\n",
    "group_size = 30\n",
    "clf.fit_predict(Porto_data.values)\n",
    "clusters = clf.labels_\n",
    "Porto_data['cluster'] = clusters"
   ]
  },
  {
   "cell_type": "code",
   "execution_count": 6,
   "metadata": {},
   "outputs": [],
   "source": [
    "# X and Y\n",
    "X = Porto_data[['element_type','highway']]\n",
    "y = Porto_data['n_type']\n",
    "X_train, X_test, y_train, y_test = train_test_split(X, y, test_size=0.2, random_state=42)"
   ]
  },
  {
   "cell_type": "code",
   "execution_count": 50,
   "metadata": {},
   "outputs": [
    {
     "name": "stdout",
     "output_type": "stream",
     "text": [
      "Unique Labels: {1, 2, 3, 4, 5}\n"
     ]
    }
   ],
   "source": [
    "# scaler = StandardScaler()\n",
    "# X_train = scaler.fit_transform(X_train)\n",
    "# X_test = scaler.transform(X_test)\n",
    "unique_labels = set(y_train)\n",
    "print(\"Unique Labels:\", unique_labels)\n",
    "y_train = y_train - 1\n",
    "y_test = y_test - 1\n"
   ]
  },
  {
   "cell_type": "code",
   "execution_count": 51,
   "metadata": {},
   "outputs": [
    {
     "name": "stdout",
     "output_type": "stream",
     "text": [
      "Epoch 1/10\n",
      "83/83 [==============================] - 3s 12ms/step - loss: 1.3992 - accuracy: 0.4375 - val_loss: 1.1601 - val_accuracy: 0.7221\n",
      "Epoch 2/10\n",
      "83/83 [==============================] - 1s 10ms/step - loss: 1.0544 - accuracy: 0.6222 - val_loss: 0.9316 - val_accuracy: 0.7221\n",
      "Epoch 3/10\n",
      "83/83 [==============================] - 1s 9ms/step - loss: 0.8681 - accuracy: 0.7083 - val_loss: 0.8913 - val_accuracy: 0.7221\n",
      "Epoch 4/10\n",
      "83/83 [==============================] - 1s 8ms/step - loss: 0.7994 - accuracy: 0.7148 - val_loss: 0.8635 - val_accuracy: 0.7221\n",
      "Epoch 5/10\n",
      "83/83 [==============================] - 1s 8ms/step - loss: 0.7789 - accuracy: 0.7144 - val_loss: 0.8694 - val_accuracy: 0.7221\n",
      "Epoch 6/10\n",
      "83/83 [==============================] - 1s 8ms/step - loss: 0.7688 - accuracy: 0.7163 - val_loss: 0.8012 - val_accuracy: 0.7221\n",
      "Epoch 7/10\n",
      "83/83 [==============================] - 1s 13ms/step - loss: 0.7668 - accuracy: 0.7167 - val_loss: 0.7633 - val_accuracy: 0.7221\n",
      "Epoch 8/10\n",
      "83/83 [==============================] - 1s 8ms/step - loss: 0.7579 - accuracy: 0.7193 - val_loss: 0.7409 - val_accuracy: 0.7221\n",
      "Epoch 9/10\n",
      "83/83 [==============================] - 1s 8ms/step - loss: 0.7593 - accuracy: 0.7193 - val_loss: 0.7537 - val_accuracy: 0.7221\n",
      "Epoch 10/10\n",
      "83/83 [==============================] - 1s 8ms/step - loss: 0.7517 - accuracy: 0.7208 - val_loss: 0.7429 - val_accuracy: 0.7311\n"
     ]
    },
    {
     "data": {
      "text/plain": [
       "<keras.src.callbacks.History at 0x1f8e42ad9c0>"
      ]
     },
     "execution_count": 51,
     "metadata": {},
     "output_type": "execute_result"
    }
   ],
   "source": [
    "model = Sequential()\n",
    "model.add(Dense(64, input_dim=2, activation='relu'))\n",
    "model.add(BatchNormalization())\n",
    "model.add(Dense(32, activation='relu'))\n",
    "model.add(BatchNormalization())\n",
    "model.add(Dense(5, activation='softmax'))  # Use 'sigmoid' for binary classification\n",
    "model.compile(optimizer='adam', loss='sparse_categorical_crossentropy', metrics=['accuracy'])\n",
    "model.fit(X_train, y_train, epochs=10, batch_size=32, validation_split=0.2)\n"
   ]
  },
  {
   "cell_type": "code",
   "execution_count": 56,
   "metadata": {},
   "outputs": [
    {
     "name": "stdout",
     "output_type": "stream",
     "text": [
      "26/26 [==============================] - 0s 4ms/step\n",
      "26/26 [==============================] - 0s 5ms/step - loss: 0.6851 - accuracy: 0.7742\n"
     ]
    },
    {
     "data": {
      "text/plain": [
       "0.7741546034812927"
      ]
     },
     "execution_count": 56,
     "metadata": {},
     "output_type": "execute_result"
    }
   ],
   "source": [
    "y_pred = model.predict(X_test)\n",
    "_, accuracy = model.evaluate(X_test, y_test)\n",
    "accuracy"
   ]
  },
  {
   "cell_type": "code",
   "execution_count": 59,
   "metadata": {},
   "outputs": [],
   "source": [
    "embedding_model = Model(inputs=model.input, outputs=model.layers[-2].output)\n"
   ]
  },
  {
   "cell_type": "code",
   "execution_count": 67,
   "metadata": {},
   "outputs": [
    {
     "name": "stdout",
     "output_type": "stream",
     "text": [
      "104/104 [==============================] - 1s 5ms/step\n"
     ]
    }
   ],
   "source": [
    "embeddings = embedding_model.predict(X_train)"
   ]
  },
  {
   "cell_type": "code",
   "execution_count": 69,
   "metadata": {},
   "outputs": [
    {
     "data": {
      "text/plain": [
       "3309"
      ]
     },
     "execution_count": 69,
     "metadata": {},
     "output_type": "execute_result"
    }
   ],
   "source": [
    "len(embeddings) #"
   ]
  }
 ],
 "metadata": {
  "kernelspec": {
   "display_name": "Python 3",
   "language": "python",
   "name": "python3"
  },
  "language_info": {
   "codemirror_mode": {
    "name": "ipython",
    "version": 3
   },
   "file_extension": ".py",
   "mimetype": "text/x-python",
   "name": "python",
   "nbconvert_exporter": "python",
   "pygments_lexer": "ipython3",
   "version": "3.10.6"
  }
 },
 "nbformat": 4,
 "nbformat_minor": 5
}
