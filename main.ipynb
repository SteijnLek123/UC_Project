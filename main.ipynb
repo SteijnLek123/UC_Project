{
 "cells": [
  {
   "cell_type": "code",
   "execution_count": 1,
   "id": "6541dcc5e6ea6626",
   "metadata": {
    "collapsed": false,
    "is_executing": true
   },
   "outputs": [
    {
     "name": "stdout",
     "output_type": "stream",
     "text": [
      "WARNING:tensorflow:From c:\\Users\\NimaMehrafar\\AppData\\Local\\Programs\\Python\\Python310\\lib\\site-packages\\keras\\src\\losses.py:2976: The name tf.losses.sparse_softmax_cross_entropy is deprecated. Please use tf.compat.v1.losses.sparse_softmax_cross_entropy instead.\n",
      "\n"
     ]
    }
   ],
   "source": [
    "import osmnx as ox\n",
    "import matplotlib as plt\n",
    "import geopandas as gpd\n",
    "from k_means_constrained import KMeansConstrained\n",
    "from sklearn.cluster import KMeans\n",
    "from sklearn.preprocessing import LabelEncoder\n",
    "import pandas as pd\n",
    "import numpy as np\n",
    "from sklearn.model_selection import train_test_split\n",
    "from sklearn.preprocessing import StandardScaler\n",
    "from sklearn.metrics import accuracy_score\n",
    "from tensorflow.keras.models import Sequential\n",
    "from tensorflow.keras.layers import Dense, BatchNormalization\n",
    "from tensorflow.keras.initializers import he_normal\n",
    "from tensorflow.keras.optimizers import Adam\n",
    "from tensorflow.keras.models import Model\n",
    "\n"
   ]
  },
  {
   "cell_type": "code",
   "execution_count": 2,
   "metadata": {},
   "outputs": [],
   "source": [
    "# load in Data\n",
    "Porto_data = pd.read_csv(r'C:\\Users\\NimaMehrafar\\UC\\UC_Project\\porto_data_2')\n",
    "SanFrancisco_data = pd.read_csv(r'C:\\Users\\NimaMehrafar\\UC\\UC_Project\\san_francisco_data_2')\n",
    "Tokyo_data = pd.read_csv(r'C:\\Users\\NimaMehrafar\\UC\\UC_Project\\tokyo_data_2')"
   ]
  },
  {
   "cell_type": "code",
   "execution_count": 3,
   "metadata": {},
   "outputs": [
    {
     "data": {
      "text/html": [
       "<div>\n",
       "<style scoped>\n",
       "    .dataframe tbody tr th:only-of-type {\n",
       "        vertical-align: middle;\n",
       "    }\n",
       "\n",
       "    .dataframe tbody tr th {\n",
       "        vertical-align: top;\n",
       "    }\n",
       "\n",
       "    .dataframe thead th {\n",
       "        text-align: right;\n",
       "    }\n",
       "</style>\n",
       "<table border=\"1\" class=\"dataframe\">\n",
       "  <thead>\n",
       "    <tr style=\"text-align: right;\">\n",
       "      <th></th>\n",
       "      <th>Unnamed: 0.1</th>\n",
       "      <th>Unnamed: 0</th>\n",
       "      <th>highway</th>\n",
       "      <th>geometry</th>\n",
       "      <th>crossing</th>\n",
       "      <th>name</th>\n",
       "      <th>n_type</th>\n",
       "      <th>osmid</th>\n",
       "    </tr>\n",
       "  </thead>\n",
       "  <tbody>\n",
       "    <tr>\n",
       "      <th>0</th>\n",
       "      <td>0</td>\n",
       "      <td>0</td>\n",
       "      <td>crossing</td>\n",
       "      <td>POINT (139.4504331 35.614965)</td>\n",
       "      <td>traffic_signals</td>\n",
       "      <td>NaN</td>\n",
       "      <td>4</td>\n",
       "      <td>0</td>\n",
       "    </tr>\n",
       "    <tr>\n",
       "      <th>1</th>\n",
       "      <td>1</td>\n",
       "      <td>1</td>\n",
       "      <td>crossing</td>\n",
       "      <td>POINT (139.4081901 35.6135793)</td>\n",
       "      <td>zebra</td>\n",
       "      <td>NaN</td>\n",
       "      <td>4</td>\n",
       "      <td>1</td>\n",
       "    </tr>\n",
       "    <tr>\n",
       "      <th>2</th>\n",
       "      <td>2</td>\n",
       "      <td>2</td>\n",
       "      <td>bus_stop</td>\n",
       "      <td>POINT (139.4159142 35.7440937)</td>\n",
       "      <td>NaN</td>\n",
       "      <td>中北台</td>\n",
       "      <td>1</td>\n",
       "      <td>2</td>\n",
       "    </tr>\n",
       "    <tr>\n",
       "      <th>3</th>\n",
       "      <td>3</td>\n",
       "      <td>3</td>\n",
       "      <td>bus_stop</td>\n",
       "      <td>POINT (139.4161435 35.7422084)</td>\n",
       "      <td>NaN</td>\n",
       "      <td>上北台団地東</td>\n",
       "      <td>1</td>\n",
       "      <td>3</td>\n",
       "    </tr>\n",
       "    <tr>\n",
       "      <th>4</th>\n",
       "      <td>4</td>\n",
       "      <td>4</td>\n",
       "      <td>bus_stop</td>\n",
       "      <td>POINT (139.417002 35.7374482)</td>\n",
       "      <td>NaN</td>\n",
       "      <td>桜街道</td>\n",
       "      <td>6</td>\n",
       "      <td>4</td>\n",
       "    </tr>\n",
       "    <tr>\n",
       "      <th>...</th>\n",
       "      <td>...</td>\n",
       "      <td>...</td>\n",
       "      <td>...</td>\n",
       "      <td>...</td>\n",
       "      <td>...</td>\n",
       "      <td>...</td>\n",
       "      <td>...</td>\n",
       "      <td>...</td>\n",
       "    </tr>\n",
       "    <tr>\n",
       "      <th>60817</th>\n",
       "      <td>60817</td>\n",
       "      <td>60817</td>\n",
       "      <td>crossing</td>\n",
       "      <td>POINT (139.8052154 35.7356922)</td>\n",
       "      <td>marked</td>\n",
       "      <td>NaN</td>\n",
       "      <td>5</td>\n",
       "      <td>60817</td>\n",
       "    </tr>\n",
       "    <tr>\n",
       "      <th>60818</th>\n",
       "      <td>60818</td>\n",
       "      <td>60818</td>\n",
       "      <td>crossing</td>\n",
       "      <td>POINT (139.8050389 35.7355167)</td>\n",
       "      <td>marked</td>\n",
       "      <td>NaN</td>\n",
       "      <td>2</td>\n",
       "      <td>60818</td>\n",
       "    </tr>\n",
       "    <tr>\n",
       "      <th>60819</th>\n",
       "      <td>60819</td>\n",
       "      <td>60819</td>\n",
       "      <td>crossing</td>\n",
       "      <td>POINT (139.805133 35.7355321)</td>\n",
       "      <td>marked</td>\n",
       "      <td>NaN</td>\n",
       "      <td>5</td>\n",
       "      <td>60819</td>\n",
       "    </tr>\n",
       "    <tr>\n",
       "      <th>60820</th>\n",
       "      <td>60820</td>\n",
       "      <td>60820</td>\n",
       "      <td>bus_stop</td>\n",
       "      <td>POINT (139.8593339 35.6473447)</td>\n",
       "      <td>NaN</td>\n",
       "      <td>臨海車庫前</td>\n",
       "      <td>6</td>\n",
       "      <td>60820</td>\n",
       "    </tr>\n",
       "    <tr>\n",
       "      <th>60821</th>\n",
       "      <td>60821</td>\n",
       "      <td>60821</td>\n",
       "      <td>bus_stop</td>\n",
       "      <td>POINT (139.8588672 35.6469546)</td>\n",
       "      <td>NaN</td>\n",
       "      <td>臨海車庫</td>\n",
       "      <td>2</td>\n",
       "      <td>60821</td>\n",
       "    </tr>\n",
       "  </tbody>\n",
       "</table>\n",
       "<p>60822 rows × 8 columns</p>\n",
       "</div>"
      ],
      "text/plain": [
       "       Unnamed: 0.1  Unnamed: 0   highway                        geometry  \\\n",
       "0                 0           0  crossing   POINT (139.4504331 35.614965)   \n",
       "1                 1           1  crossing  POINT (139.4081901 35.6135793)   \n",
       "2                 2           2  bus_stop  POINT (139.4159142 35.7440937)   \n",
       "3                 3           3  bus_stop  POINT (139.4161435 35.7422084)   \n",
       "4                 4           4  bus_stop   POINT (139.417002 35.7374482)   \n",
       "...             ...         ...       ...                             ...   \n",
       "60817         60817       60817  crossing  POINT (139.8052154 35.7356922)   \n",
       "60818         60818       60818  crossing  POINT (139.8050389 35.7355167)   \n",
       "60819         60819       60819  crossing   POINT (139.805133 35.7355321)   \n",
       "60820         60820       60820  bus_stop  POINT (139.8593339 35.6473447)   \n",
       "60821         60821       60821  bus_stop  POINT (139.8588672 35.6469546)   \n",
       "\n",
       "              crossing    name  n_type  osmid  \n",
       "0      traffic_signals     NaN       4      0  \n",
       "1                zebra     NaN       4      1  \n",
       "2                  NaN     中北台       1      2  \n",
       "3                  NaN  上北台団地東       1      3  \n",
       "4                  NaN     桜街道       6      4  \n",
       "...                ...     ...     ...    ...  \n",
       "60817           marked     NaN       5  60817  \n",
       "60818           marked     NaN       2  60818  \n",
       "60819           marked     NaN       5  60819  \n",
       "60820              NaN   臨海車庫前       6  60820  \n",
       "60821              NaN    臨海車庫       2  60821  \n",
       "\n",
       "[60822 rows x 8 columns]"
      ]
     },
     "execution_count": 3,
     "metadata": {},
     "output_type": "execute_result"
    }
   ],
   "source": [
    "Tokyo_data"
   ]
  },
  {
   "cell_type": "code",
   "execution_count": 4,
   "id": "54cc60827706ed5d",
   "metadata": {
    "collapsed": false,
    "is_executing": true
   },
   "outputs": [],
   "source": [
    "clf = KMeansConstrained(\n",
    "     n_clusters=85,\n",
    "    size_min=40,\n",
    "    size_max=60, \n",
    "    random_state=0)"
   ]
  },
  {
   "cell_type": "code",
   "execution_count": 5,
   "id": "initial_id",
   "metadata": {
    "collapsed": true,
    "is_executing": true
   },
   "outputs": [],
   "source": [
    "#Preprocessing\n",
    "Porto_data = Porto_data[['element_type','highway','n_type']]\n",
    "label_encoder = LabelEncoder()\n",
    "Porto_data['highway'] = label_encoder.fit_transform(Porto_data['highway'])\n",
    "Porto_data['element_type'] = label_encoder.fit_transform(Porto_data['element_type'])\n"
   ]
  },
  {
   "cell_type": "code",
   "execution_count": 6,
   "id": "2da0268d1d20bc61",
   "metadata": {
    "collapsed": false
   },
   "outputs": [],
   "source": [
    "#Clustering\n",
    "group_size = 30\n",
    "clf.fit_predict(Porto_data.values)\n",
    "clusters = clf.labels_\n",
    "Porto_data['cluster'] = clusters"
   ]
  },
  {
   "cell_type": "code",
   "execution_count": 7,
   "metadata": {},
   "outputs": [],
   "source": [
    "# X and Y\n",
    "X = Porto_data[['element_type','highway']]\n",
    "y = Porto_data['n_type']\n",
    "X_train, X_test, y_train, y_test = train_test_split(X, y, test_size=0.2, random_state=42)"
   ]
  },
  {
   "cell_type": "code",
   "execution_count": 8,
   "metadata": {},
   "outputs": [
    {
     "name": "stdout",
     "output_type": "stream",
     "text": [
      "Unique Labels: {1, 2, 3, 4, 5}\n"
     ]
    }
   ],
   "source": [
    "# scaler = StandardScaler()\n",
    "# X_train = scaler.fit_transform(X_train)\n",
    "# X_test = scaler.transform(X_test)\n",
    "unique_labels = set(y_train)\n",
    "print(\"Unique Labels:\", unique_labels)\n",
    "y_train = y_train - 1\n",
    "y_test = y_test - 1\n"
   ]
  },
  {
   "cell_type": "code",
   "execution_count": 9,
   "metadata": {},
   "outputs": [
    {
     "name": "stdout",
     "output_type": "stream",
     "text": [
      "WARNING:tensorflow:From c:\\Users\\NimaMehrafar\\AppData\\Local\\Programs\\Python\\Python310\\lib\\site-packages\\keras\\src\\backend.py:873: The name tf.get_default_graph is deprecated. Please use tf.compat.v1.get_default_graph instead.\n",
      "\n",
      "WARNING:tensorflow:From c:\\Users\\NimaMehrafar\\AppData\\Local\\Programs\\Python\\Python310\\lib\\site-packages\\keras\\src\\optimizers\\__init__.py:309: The name tf.train.Optimizer is deprecated. Please use tf.compat.v1.train.Optimizer instead.\n",
      "\n",
      "Epoch 1/10\n",
      "WARNING:tensorflow:From c:\\Users\\NimaMehrafar\\AppData\\Local\\Programs\\Python\\Python310\\lib\\site-packages\\keras\\src\\utils\\tf_utils.py:492: The name tf.ragged.RaggedTensorValue is deprecated. Please use tf.compat.v1.ragged.RaggedTensorValue instead.\n",
      "\n",
      "WARNING:tensorflow:From c:\\Users\\NimaMehrafar\\AppData\\Local\\Programs\\Python\\Python310\\lib\\site-packages\\keras\\src\\engine\\base_layer_utils.py:384: The name tf.executing_eagerly_outside_functions is deprecated. Please use tf.compat.v1.executing_eagerly_outside_functions instead.\n",
      "\n",
      "83/83 [==============================] - 5s 16ms/step - loss: 1.4396 - accuracy: 0.4307 - val_loss: 1.2615 - val_accuracy: 0.7221\n",
      "Epoch 2/10\n",
      "83/83 [==============================] - 1s 8ms/step - loss: 1.0674 - accuracy: 0.6641 - val_loss: 1.0161 - val_accuracy: 0.7221\n",
      "Epoch 3/10\n",
      "83/83 [==============================] - 1s 9ms/step - loss: 0.8855 - accuracy: 0.7136 - val_loss: 0.8565 - val_accuracy: 0.7221\n",
      "Epoch 4/10\n",
      "83/83 [==============================] - 1s 11ms/step - loss: 0.8273 - accuracy: 0.7136 - val_loss: 0.8407 - val_accuracy: 0.7221\n",
      "Epoch 5/10\n",
      "83/83 [==============================] - 1s 9ms/step - loss: 0.8029 - accuracy: 0.7140 - val_loss: 0.8371 - val_accuracy: 0.6964\n",
      "Epoch 6/10\n",
      "83/83 [==============================] - 1s 8ms/step - loss: 0.8011 - accuracy: 0.7140 - val_loss: 1.1324 - val_accuracy: 0.6677\n",
      "Epoch 7/10\n",
      "83/83 [==============================] - 1s 10ms/step - loss: 0.7919 - accuracy: 0.7136 - val_loss: 0.9308 - val_accuracy: 0.6586\n",
      "Epoch 8/10\n",
      "83/83 [==============================] - 1s 11ms/step - loss: 0.7856 - accuracy: 0.7136 - val_loss: 0.7798 - val_accuracy: 0.7221\n",
      "Epoch 9/10\n",
      "83/83 [==============================] - 1s 11ms/step - loss: 0.7843 - accuracy: 0.7140 - val_loss: 0.7808 - val_accuracy: 0.7221\n",
      "Epoch 10/10\n",
      "83/83 [==============================] - 1s 11ms/step - loss: 0.7879 - accuracy: 0.7140 - val_loss: 0.8151 - val_accuracy: 0.6964\n"
     ]
    },
    {
     "data": {
      "text/plain": [
       "<keras.src.callbacks.History at 0x25fee8762c0>"
      ]
     },
     "execution_count": 9,
     "metadata": {},
     "output_type": "execute_result"
    }
   ],
   "source": [
    "model = Sequential()\n",
    "model.add(Dense(64, input_dim=2, activation='relu'))\n",
    "model.add(BatchNormalization())\n",
    "model.add(Dense(32, activation='relu'))\n",
    "model.add(BatchNormalization())\n",
    "model.add(Dense(5, activation='softmax'))  # Use 'sigmoid' for binary classification\n",
    "model.compile(optimizer='adam', loss='sparse_categorical_crossentropy', metrics=['accuracy'])\n",
    "model.fit(X_train, y_train, epochs=10, batch_size=32, validation_split=0.2)\n"
   ]
  },
  {
   "cell_type": "code",
   "execution_count": 10,
   "metadata": {},
   "outputs": [
    {
     "name": "stdout",
     "output_type": "stream",
     "text": [
      "26/26 [==============================] - 0s 4ms/step\n",
      "26/26 [==============================] - 0s 5ms/step - loss: 0.8325 - accuracy: 0.7415\n"
     ]
    },
    {
     "data": {
      "text/plain": [
       "0.7415459156036377"
      ]
     },
     "execution_count": 10,
     "metadata": {},
     "output_type": "execute_result"
    }
   ],
   "source": [
    "y_pred = model.predict(X_test)\n",
    "_, accuracy = model.evaluate(X_test, y_test)\n",
    "accuracy"
   ]
  },
  {
   "cell_type": "code",
   "execution_count": 11,
   "metadata": {},
   "outputs": [],
   "source": [
    "embedding_model = Model(inputs=model.input, outputs=model.layers[-2].output)\n"
   ]
  },
  {
   "cell_type": "code",
   "execution_count": 12,
   "metadata": {},
   "outputs": [
    {
     "name": "stdout",
     "output_type": "stream",
     "text": [
      "104/104 [==============================] - 1s 4ms/step\n"
     ]
    }
   ],
   "source": [
    "embeddings = embedding_model.predict(X_train)"
   ]
  },
  {
   "cell_type": "code",
   "execution_count": 14,
   "metadata": {},
   "outputs": [
    {
     "data": {
      "text/plain": [
       "array([-1.550345  , -0.28344545, -0.7479494 , -0.24462476, -2.2941072 ,\n",
       "       -0.3157131 , -0.58305645,  4.338916  ,  4.734445  ,  4.3688865 ,\n",
       "        0.3321503 , -0.3260085 ,  3.663627  , -0.49686533, -0.24679339,\n",
       "       -0.30266222, -1.722468  , -1.5876964 ,  3.9059036 ,  4.2728972 ,\n",
       "        4.871971  , -0.6356286 , -1.2031636 ,  4.182301  ,  4.055821  ,\n",
       "        3.859782  ,  4.569083  ,  4.021937  , -1.5407001 ,  2.9428232 ,\n",
       "        3.1956816 ,  2.5938122 ], dtype=float32)"
      ]
     },
     "execution_count": 14,
     "metadata": {},
     "output_type": "execute_result"
    }
   ],
   "source": [
    "embeddings[0]"
   ]
  }
 ],
 "metadata": {
  "kernelspec": {
   "display_name": "Python 3",
   "language": "python",
   "name": "python3"
  },
  "language_info": {
   "codemirror_mode": {
    "name": "ipython",
    "version": 3
   },
   "file_extension": ".py",
   "mimetype": "text/x-python",
   "name": "python",
   "nbconvert_exporter": "python",
   "pygments_lexer": "ipython3",
   "version": "3.10.6"
  }
 },
 "nbformat": 4,
 "nbformat_minor": 5
}
