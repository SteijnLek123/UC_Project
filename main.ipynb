{
 "cells": [
  {
   "cell_type": "code",
   "execution_count": 1,
   "outputs": [],
   "source": [
    "import osmnx as ox\n",
    "import matplotlib as plt\n",
    "import geopandas as gpd\n",
    "import pandas as pd\n",
    "import random"
   ],
   "metadata": {
    "collapsed": false,
    "ExecuteTime": {
     "end_time": "2023-11-25T15:29:56.436033800Z",
     "start_time": "2023-11-25T15:29:51.276306Z"
    }
   },
   "id": "6541dcc5e6ea6626"
  },
  {
   "cell_type": "markdown",
   "source": [
    "Get junctions"
   ],
   "metadata": {
    "collapsed": false
   },
   "id": "4323d61bfcb55415"
  },
  {
   "cell_type": "code",
   "execution_count": null,
   "outputs": [],
   "source": [
    "#source: https://github.com/gboeing/osmnx-examples/blob/main/notebooks/16-download-osm-geospatial-features.ipynb\n",
    "place = \"San Francisco\"\n",
    "tags = {\"highway\": [\"give_way\", \"mini_roundabout\", \"bus_stop\", \"turning_circle\", \"crossing\", \"traffic_signal\", \"stop\", \"speed_camera\", \"motorway_junction\",  \"turning_loop\"]}\n",
    "gdf = ox.features_from_place(place, tags)\n",
    "gdf.columns"
   ],
   "metadata": {
    "collapsed": false
   },
   "id": "54cc60827706ed5d"
  },
  {
   "cell_type": "code",
   "execution_count": 41,
   "outputs": [],
   "source": [
    "gdf = gdf[[\"highway\", \"geometry\", \"crossing\", \"name\"]]"
   ],
   "metadata": {
    "collapsed": false,
    "ExecuteTime": {
     "end_time": "2023-11-24T16:29:47.803860200Z",
     "start_time": "2023-11-24T16:29:47.767061800Z"
    }
   },
   "id": "eef25a16458df55"
  },
  {
   "cell_type": "code",
   "execution_count": 43,
   "outputs": [
    {
     "data": {
      "text/plain": "19270"
     },
     "execution_count": 43,
     "metadata": {},
     "output_type": "execute_result"
    }
   ],
   "source": [
    "x, y = gdf.shape\n",
    "x"
   ],
   "metadata": {
    "collapsed": false
   },
   "id": "cb01e239be0315d7"
  },
  {
   "cell_type": "code",
   "execution_count": 44,
   "outputs": [],
   "source": [
    "n_type = []\n",
    "for i in range(x):\n",
    "    n_type.append(random.randint(1, 6))\n",
    "gdf[\"n_type\"] = n_type"
   ],
   "metadata": {
    "collapsed": false,
    "ExecuteTime": {
     "end_time": "2023-11-24T16:29:55.472796200Z",
     "start_time": "2023-11-24T16:29:55.441364700Z"
    }
   },
   "id": "24616d91fc6fc6e"
  },
  {
   "cell_type": "code",
   "execution_count": 46,
   "outputs": [],
   "source": [
    "gdf.to_csv('san_fransisco_data')"
   ],
   "metadata": {
    "collapsed": false,
    "ExecuteTime": {
     "end_time": "2023-11-24T16:30:09.223507200Z",
     "start_time": "2023-11-24T16:30:08.925402300Z"
    }
   },
   "id": "6ce2381f6ee21795"
  },
  {
   "cell_type": "markdown",
   "source": [
    "Get neighbors for N-ways"
   ],
   "metadata": {
    "collapsed": false
   },
   "id": "9b51e0f73b6314f2"
  },
  {
   "cell_type": "code",
   "execution_count": 44,
   "outputs": [],
   "source": [
    "G = ox.graph_from_place('Porto')"
   ],
   "metadata": {
    "collapsed": false,
    "ExecuteTime": {
     "end_time": "2023-11-25T19:46:30.792402500Z",
     "start_time": "2023-11-25T19:46:14.933210900Z"
    }
   },
   "id": "60821eb3f1574ea2"
  },
  {
   "cell_type": "code",
   "execution_count": 62,
   "outputs": [],
   "source": [
    "neighbors = list(G.neighbors(447881534))"
   ],
   "metadata": {
    "collapsed": false,
    "ExecuteTime": {
     "end_time": "2023-11-25T19:56:52.970508700Z",
     "start_time": "2023-11-25T19:56:52.954853100Z"
    }
   },
   "id": "622aa2dd1fdaba1c"
  },
  {
   "cell_type": "code",
   "execution_count": 63,
   "outputs": [
    {
     "data": {
      "text/plain": "[447867547]"
     },
     "execution_count": 63,
     "metadata": {},
     "output_type": "execute_result"
    }
   ],
   "source": [
    "neighbors"
   ],
   "metadata": {
    "collapsed": false,
    "ExecuteTime": {
     "end_time": "2023-11-25T19:56:55.106931600Z",
     "start_time": "2023-11-25T19:56:55.092727Z"
    }
   },
   "id": "129e332e2489580a"
  },
  {
   "cell_type": "code",
   "execution_count": 15,
   "outputs": [],
   "source": [
    "df = pd.read_csv(\"porto_data\")"
   ],
   "metadata": {
    "collapsed": false,
    "ExecuteTime": {
     "end_time": "2023-11-25T19:12:55.336013200Z",
     "start_time": "2023-11-25T19:12:55.288415900Z"
    }
   },
   "id": "bc3a4a8350ca0785"
  },
  {
   "cell_type": "code",
   "execution_count": 31,
   "outputs": [
    {
     "data": {
      "text/plain": "  element_type     osmid   highway                       geometry crossing  \\\n5         node  25632368  crossing  POINT (-8.6156082 41.1485969)   marked   \n\n  name  n_type  \n5  NaN       2  ",
      "text/html": "<div>\n<style scoped>\n    .dataframe tbody tr th:only-of-type {\n        vertical-align: middle;\n    }\n\n    .dataframe tbody tr th {\n        vertical-align: top;\n    }\n\n    .dataframe thead th {\n        text-align: right;\n    }\n</style>\n<table border=\"1\" class=\"dataframe\">\n  <thead>\n    <tr style=\"text-align: right;\">\n      <th></th>\n      <th>element_type</th>\n      <th>osmid</th>\n      <th>highway</th>\n      <th>geometry</th>\n      <th>crossing</th>\n      <th>name</th>\n      <th>n_type</th>\n    </tr>\n  </thead>\n  <tbody>\n    <tr>\n      <th>5</th>\n      <td>node</td>\n      <td>25632368</td>\n      <td>crossing</td>\n      <td>POINT (-8.6156082 41.1485969)</td>\n      <td>marked</td>\n      <td>NaN</td>\n      <td>2</td>\n    </tr>\n  </tbody>\n</table>\n</div>"
     },
     "execution_count": 31,
     "metadata": {},
     "output_type": "execute_result"
    }
   ],
   "source": [
    "df.loc[df[\"osmid\"] == 25632368]"
   ],
   "metadata": {
    "collapsed": false,
    "ExecuteTime": {
     "end_time": "2023-11-25T19:20:16.886003600Z",
     "start_time": "2023-11-25T19:20:16.854567Z"
    }
   },
   "id": "3d564662f88423c3"
  },
  {
   "cell_type": "code",
   "execution_count": 64,
   "outputs": [
    {
     "data": {
      "text/plain": "{'id': 447881534,\n 'visible': True,\n 'version': 21,\n 'changeset': 91078709,\n 'timestamp': datetime.datetime(2020, 9, 18, 3, 48, 33),\n 'user': 'pvt',\n 'uid': 499530,\n 'lat': 41.1748928,\n 'lon': -8.5832638,\n 'tag': {'highway': 'crossing'}}"
     },
     "execution_count": 64,
     "metadata": {},
     "output_type": "execute_result"
    }
   ],
   "source": [
    "import osmapi as osm\n",
    "api = osm.OsmApi() # this instantiate the OsmApi class,\n",
    "# it has many function, we will use NodeGet function.\n",
    "# For more detail about it check the doc\n",
    "# http://osmapi.metaodi.ch/#osmapi.OsmApi.OsmApi.NodeGet\n",
    "node = api.NodeGet(447881534)\n",
    "node # will return a dict object"
   ],
   "metadata": {
    "collapsed": false,
    "ExecuteTime": {
     "end_time": "2023-11-25T19:57:02.581823600Z",
     "start_time": "2023-11-25T19:57:02.500777Z"
    }
   },
   "id": "8a27f336ecd7685e"
  },
  {
   "cell_type": "code",
   "execution_count": 4,
   "outputs": [],
   "source": [
    "# import pandas as pd"
   ],
   "metadata": {
    "collapsed": false,
    "ExecuteTime": {
     "end_time": "2023-11-09T11:20:20.452193Z",
     "start_time": "2023-11-09T11:20:20.420759600Z"
    }
   },
   "id": "2da0268d1d20bc61"
  },
  {
   "cell_type": "code",
   "execution_count": 9,
   "outputs": [
    {
     "name": "stderr",
     "output_type": "stream",
     "text": [
      "C:\\Users\\steij\\AppData\\Local\\Temp\\ipykernel_13644\\649416498.py:1: DtypeWarning: Columns (1,24) have mixed types. Specify dtype option on import or set low_memory=False.\n",
      "  df = pd.read_csv(r'ongevallen.txt', encoding = \"ISO-8859-1\")\n"
     ]
    },
    {
     "data": {
      "text/plain": "<bound method NDFrame.to_csv of          VKL_NUMMER   REGNUMMER  PVOPGEM  DATUM_VKL  DAG_CODE  MND_NUMMER  \\\n0       20200037025  2020101116      NaN        NaN       NaN         NaN   \n1       20200019924  2020025999      NaN        NaN       NaN         NaN   \n2       20200022792  2020077165      NaN        NaN       NaN         NaN   \n3       20200016881  2020019410      NaN        NaN       NaN         NaN   \n4       20200016876  2020039331      NaN        NaN       NaN         NaN   \n...             ...         ...      ...        ...       ...         ...   \n103573  20200113700  2020295269      NaN        NaN       NaN         NaN   \n103574  20209091278  2020391785      NaN        NaN       NaN         NaN   \n103575  20209091277  2020391786      NaN        NaN       NaN         NaN   \n103576  20209044863  2020281608      NaN        NaN       NaN         NaN   \n103577  20209024904  2020168926      NaN        NaN       NaN         NaN   \n\n        JAAR_VKL  TIJDSTIP  UUR  DDL_ID  ... PVE_NAAM  \\\n0           2020       NaN  NaN     NaN  ...  Limburg   \n1           2020       NaN  NaN     NaN  ...  Limburg   \n2           2020       NaN  NaN     NaN  ...  Limburg   \n3           2020       NaN  NaN     NaN  ...  Limburg   \n4           2020       NaN  NaN     NaN  ...  Limburg   \n...          ...       ...  ...     ...  ...      ...   \n103573      2020       NaN  NaN     NaN  ...  Utrecht   \n103574      2020       NaN  NaN     NaN  ...  Utrecht   \n103575      2020       NaN  NaN     NaN  ...  Utrecht   \n103576      2020       NaN  NaN     NaN  ...  Utrecht   \n103577      2020       NaN  NaN     NaN  ...  Utrecht   \n\n                                        KDD_NAAM  \\\n0       REGIO LIMBURG                              \n1       REGIO LIMBURG                              \n2       REGIO LIMBURG                              \n3       REGIO LIMBURG                              \n4       REGIO LIMBURG                              \n...                                          ...   \n103573                                       NaN   \n103574                                       NaN   \n103575                                       NaN   \n103576                                       NaN   \n103577                                       NaN   \n\n                                        PLT_NAAM  DIENSTCODE  DIENSTNAAM  \\\n0       Regionale Eenheid Limburg                        NaN         NaN   \n1       Regionale Eenheid Limburg                        NaN         NaN   \n2       Regionale Eenheid Limburg                        NaN         NaN   \n3       Regionale Eenheid Limburg                         ZN          ZN   \n4       Regionale Eenheid Limburg                         ZN          ZN   \n...                                          ...         ...         ...   \n103573  Regionale Eenheid Midden-Nederland               NaN         NaN   \n103574  Regionale Eenheid Midden-Nederland               NaN         NaN   \n103575  Regionale Eenheid Midden-Nederland               NaN         NaN   \n103576  Regionale Eenheid Midden-Nederland                MN          MN   \n103577  Regionale Eenheid Midden-Nederland               NaN         NaN   \n\n        DISTRCODE              DISTRNAAM  DAGTYPE  IND_ALC  WEEKNR  \n0             NaN                    NaN      NaN      NaN     NaN  \n1             NaN                    NaN      NaN      NaN     NaN  \n2             NaN                    NaN      NaN      NaN     NaN  \n3           195.0  ZN District Zuid-Oost      NaN      NaN     NaN  \n4           195.0  ZN District Zuid-Oost      NaN      NaN     NaN  \n...           ...                    ...      ...      ...     ...  \n103573        NaN                    NaN      NaN      NaN     NaN  \n103574        NaN                    NaN      NaN      NaN     NaN  \n103575        NaN                    NaN      NaN      NaN     NaN  \n103576      137.0       MN District Zuid      NaN      NaN     NaN  \n103577        NaN                    NaN      NaN      NaN     NaN  \n\n[103578 rows x 66 columns]>"
     },
     "execution_count": 9,
     "metadata": {},
     "output_type": "execute_result"
    }
   ],
   "source": [
    "# df = pd.read_csv(r'ongevallen.txt', encoding = \"ISO-8859-1\")\n",
    "# df = df.to_csv\n",
    "# df"
   ],
   "metadata": {
    "collapsed": false,
    "ExecuteTime": {
     "end_time": "2023-11-09T11:22:56.986993100Z",
     "start_time": "2023-11-09T11:22:56.281072600Z"
    }
   },
   "id": "8c8f691a8019401d"
  }
 ],
 "metadata": {
  "kernelspec": {
   "display_name": "Python 3",
   "language": "python",
   "name": "python3"
  },
  "language_info": {
   "codemirror_mode": {
    "name": "ipython",
    "version": 2
   },
   "file_extension": ".py",
   "mimetype": "text/x-python",
   "name": "python",
   "nbconvert_exporter": "python",
   "pygments_lexer": "ipython2",
   "version": "2.7.6"
  }
 },
 "nbformat": 4,
 "nbformat_minor": 5
}
